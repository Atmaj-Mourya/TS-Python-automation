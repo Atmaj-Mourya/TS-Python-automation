{
 "cells": [
  {
   "cell_type": "markdown",
   "id": "a8503d6c-10ad-4522-9cb1-1d94e0a25f8d",
   "metadata": {},
   "source": [
    "![pptslide1](pptslide1.png)"
   ]
  },
  {
   "cell_type": "markdown",
   "id": "11764916-da66-4f8b-9d42-73e700c42192",
   "metadata": {},
   "source": [
    "![pptslide2](pptslide2.png)"
   ]
  },
  {
   "cell_type": "code",
   "execution_count": null,
   "id": "049a9338-e988-42dd-a470-37c01c64408e",
   "metadata": {},
   "outputs": [],
   "source": [
    "!pip install yfinance pandas openpyxl"
   ]
  },
  {
   "cell_type": "code",
   "execution_count": null,
   "id": "a293ba0e-20ac-4687-a255-efd54e752d01",
   "metadata": {},
   "outputs": [],
   "source": [
    "import yfinance as yf\n",
    "import pandas as pd\n",
    "from datetime import datetime"
   ]
  },
  {
   "cell_type": "code",
   "execution_count": null,
   "id": "7b3435cd-c0e0-4219-9ed9-56fbca6f0a33",
   "metadata": {},
   "outputs": [],
   "source": [
    "tickers_input = input(\"Enter stock tickers (comma-separated): \")\n",
    "start_date = input(\"Enter start date (YYYY-MM-DD): \")\n",
    "end_date = input(\"Enter end date (YYYY-MM-DD): \")"
   ]
  },
  {
   "cell_type": "code",
   "execution_count": null,
   "id": "10fe7d12-65e1-4822-9ae7-4cbd2c0d4a7d",
   "metadata": {},
   "outputs": [],
   "source": [
    "tickers = [ticker.strip().upper() for ticker in tickers_input.split(',')]"
   ]
  },
  {
   "cell_type": "code",
   "execution_count": null,
   "id": "6ce4894e-2c44-4cd4-9ab5-aaace7942da8",
   "metadata": {},
   "outputs": [],
   "source": [
    "filename = f\"Stock_Data_{datetime.now().strftime('%Y%m%d_%H%M%S')}.xlsx\"\n",
    "writer = pd.ExcelWriter(filename, engine='openpyxl')\n"
   ]
  },
  {
   "cell_type": "code",
   "execution_count": null,
   "id": "7849d137-f09d-457f-a910-a6ee589f08bd",
   "metadata": {},
   "outputs": [],
   "source": [
    "for ticker in tickers:\n",
    "    try:\n",
    "        stock = yf.Ticker(ticker)\n",
    "        data = stock.history(start=start_date, end=end_date)\n",
    "\n",
    "        if data.empty:\n",
    "            print(f\"[!] No data found for {ticker}. Skipping...\")\n",
    "            continue\n",
    "\n",
    "        data.index = data.index.tz_localize(None)\n",
    "\n",
    "        data.reset_index(inplace=True)  # Makes the date a column\n",
    "        data.to_excel(writer, sheet_name=ticker, index=False)\n",
    "        print(f\"[+] Added data for {ticker}\")\n",
    "    except Exception as e:\n",
    "        print(f\"[!] Error fetching data for {ticker}: {e}\")\n"
   ]
  },
  {
   "cell_type": "code",
   "execution_count": null,
   "id": "d8896028-aecd-48bf-987d-928c0838c84d",
   "metadata": {},
   "outputs": [],
   "source": [
    "writer.close()\n",
    "print(f\"\\n✅ All done! Excel file saved as: {filename}\")"
   ]
  }
 ],
 "metadata": {
  "kernelspec": {
   "display_name": "Python [conda env:base] *",
   "language": "python",
   "name": "conda-base-py"
  },
  "language_info": {
   "codemirror_mode": {
    "name": "ipython",
    "version": 3
   },
   "file_extension": ".py",
   "mimetype": "text/x-python",
   "name": "python",
   "nbconvert_exporter": "python",
   "pygments_lexer": "ipython3",
   "version": "3.12.7"
  }
 },
 "nbformat": 4,
 "nbformat_minor": 5
}
